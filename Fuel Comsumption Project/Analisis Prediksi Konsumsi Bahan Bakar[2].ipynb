{
 "cells": [
  {
   "cell_type": "markdown",
   "id": "be50adb9",
   "metadata": {},
   "source": [
    "#### MULTIPLE LINEAR REGRESSION"
   ]
  },
  {
   "cell_type": "code",
   "execution_count": 1,
   "id": "7d976862",
   "metadata": {},
   "outputs": [],
   "source": [
    "import pandas as pd\n",
    "\n",
    "df2 = pd.read_csv('bensin2.csv')"
   ]
  },
  {
   "cell_type": "code",
   "execution_count": 2,
   "id": "c2b22294",
   "metadata": {},
   "outputs": [
    {
     "data": {
      "text/html": [
       "<div>\n",
       "<style scoped>\n",
       "    .dataframe tbody tr th:only-of-type {\n",
       "        vertical-align: middle;\n",
       "    }\n",
       "\n",
       "    .dataframe tbody tr th {\n",
       "        vertical-align: top;\n",
       "    }\n",
       "\n",
       "    .dataframe thead th {\n",
       "        text-align: right;\n",
       "    }\n",
       "</style>\n",
       "<table border=\"1\" class=\"dataframe\">\n",
       "  <thead>\n",
       "    <tr style=\"text-align: right;\">\n",
       "      <th></th>\n",
       "      <th>Liter</th>\n",
       "      <th>Penumpang</th>\n",
       "      <th>Bagasi</th>\n",
       "      <th>Kecepatan</th>\n",
       "      <th>RPM</th>\n",
       "      <th>Suhu</th>\n",
       "      <th>Kilometer</th>\n",
       "    </tr>\n",
       "  </thead>\n",
       "  <tbody>\n",
       "    <tr>\n",
       "      <th>0</th>\n",
       "      <td>20</td>\n",
       "      <td>1</td>\n",
       "      <td>0</td>\n",
       "      <td>42</td>\n",
       "      <td>3000</td>\n",
       "      <td>29</td>\n",
       "      <td>142</td>\n",
       "    </tr>\n",
       "    <tr>\n",
       "      <th>1</th>\n",
       "      <td>25</td>\n",
       "      <td>2</td>\n",
       "      <td>15</td>\n",
       "      <td>50</td>\n",
       "      <td>4000</td>\n",
       "      <td>36</td>\n",
       "      <td>177</td>\n",
       "    </tr>\n",
       "    <tr>\n",
       "      <th>2</th>\n",
       "      <td>20</td>\n",
       "      <td>4</td>\n",
       "      <td>10</td>\n",
       "      <td>50</td>\n",
       "      <td>3000</td>\n",
       "      <td>24</td>\n",
       "      <td>144</td>\n",
       "    </tr>\n",
       "    <tr>\n",
       "      <th>3</th>\n",
       "      <td>30</td>\n",
       "      <td>5</td>\n",
       "      <td>25</td>\n",
       "      <td>50</td>\n",
       "      <td>3000</td>\n",
       "      <td>18</td>\n",
       "      <td>203</td>\n",
       "    </tr>\n",
       "    <tr>\n",
       "      <th>4</th>\n",
       "      <td>40</td>\n",
       "      <td>1</td>\n",
       "      <td>40</td>\n",
       "      <td>50</td>\n",
       "      <td>3200</td>\n",
       "      <td>30</td>\n",
       "      <td>273</td>\n",
       "    </tr>\n",
       "    <tr>\n",
       "      <th>...</th>\n",
       "      <td>...</td>\n",
       "      <td>...</td>\n",
       "      <td>...</td>\n",
       "      <td>...</td>\n",
       "      <td>...</td>\n",
       "      <td>...</td>\n",
       "      <td>...</td>\n",
       "    </tr>\n",
       "    <tr>\n",
       "      <th>60</th>\n",
       "      <td>31</td>\n",
       "      <td>3</td>\n",
       "      <td>0</td>\n",
       "      <td>50</td>\n",
       "      <td>3000</td>\n",
       "      <td>30</td>\n",
       "      <td>203</td>\n",
       "    </tr>\n",
       "    <tr>\n",
       "      <th>61</th>\n",
       "      <td>37</td>\n",
       "      <td>1</td>\n",
       "      <td>0</td>\n",
       "      <td>50</td>\n",
       "      <td>3000</td>\n",
       "      <td>22</td>\n",
       "      <td>241</td>\n",
       "    </tr>\n",
       "    <tr>\n",
       "      <th>62</th>\n",
       "      <td>23</td>\n",
       "      <td>2</td>\n",
       "      <td>10</td>\n",
       "      <td>50</td>\n",
       "      <td>3000</td>\n",
       "      <td>30</td>\n",
       "      <td>142</td>\n",
       "    </tr>\n",
       "    <tr>\n",
       "      <th>63</th>\n",
       "      <td>36</td>\n",
       "      <td>2</td>\n",
       "      <td>0</td>\n",
       "      <td>50</td>\n",
       "      <td>3000</td>\n",
       "      <td>20</td>\n",
       "      <td>241</td>\n",
       "    </tr>\n",
       "    <tr>\n",
       "      <th>64</th>\n",
       "      <td>23</td>\n",
       "      <td>1</td>\n",
       "      <td>15</td>\n",
       "      <td>50</td>\n",
       "      <td>3000</td>\n",
       "      <td>30</td>\n",
       "      <td>142</td>\n",
       "    </tr>\n",
       "  </tbody>\n",
       "</table>\n",
       "<p>65 rows × 7 columns</p>\n",
       "</div>"
      ],
      "text/plain": [
       "    Liter  Penumpang  Bagasi  Kecepatan   RPM  Suhu  Kilometer\n",
       "0      20          1       0         42  3000    29        142\n",
       "1      25          2      15         50  4000    36        177\n",
       "2      20          4      10         50  3000    24        144\n",
       "3      30          5      25         50  3000    18        203\n",
       "4      40          1      40         50  3200    30        273\n",
       "..    ...        ...     ...        ...   ...   ...        ...\n",
       "60     31          3       0         50  3000    30        203\n",
       "61     37          1       0         50  3000    22        241\n",
       "62     23          2      10         50  3000    30        142\n",
       "63     36          2       0         50  3000    20        241\n",
       "64     23          1      15         50  3000    30        142\n",
       "\n",
       "[65 rows x 7 columns]"
      ]
     },
     "execution_count": 2,
     "metadata": {},
     "output_type": "execute_result"
    }
   ],
   "source": [
    "df2"
   ]
  },
  {
   "cell_type": "code",
   "execution_count": 3,
   "id": "bd8b9c02",
   "metadata": {},
   "outputs": [
    {
     "data": {
      "text/html": [
       "<div>\n",
       "<style scoped>\n",
       "    .dataframe tbody tr th:only-of-type {\n",
       "        vertical-align: middle;\n",
       "    }\n",
       "\n",
       "    .dataframe tbody tr th {\n",
       "        vertical-align: top;\n",
       "    }\n",
       "\n",
       "    .dataframe thead th {\n",
       "        text-align: right;\n",
       "    }\n",
       "</style>\n",
       "<table border=\"1\" class=\"dataframe\">\n",
       "  <thead>\n",
       "    <tr style=\"text-align: right;\">\n",
       "      <th></th>\n",
       "      <th>Liter</th>\n",
       "      <th>Penumpang</th>\n",
       "      <th>Bagasi</th>\n",
       "      <th>Kecepatan</th>\n",
       "      <th>Suhu</th>\n",
       "      <th>Kilometer</th>\n",
       "    </tr>\n",
       "  </thead>\n",
       "  <tbody>\n",
       "    <tr>\n",
       "      <th>Liter</th>\n",
       "      <td>1.000000</td>\n",
       "      <td>-0.087997</td>\n",
       "      <td>0.097560</td>\n",
       "      <td>0.109370</td>\n",
       "      <td>0.079470</td>\n",
       "      <td>0.700815</td>\n",
       "    </tr>\n",
       "    <tr>\n",
       "      <th>Penumpang</th>\n",
       "      <td>-0.087997</td>\n",
       "      <td>1.000000</td>\n",
       "      <td>0.081542</td>\n",
       "      <td>0.111942</td>\n",
       "      <td>-0.039954</td>\n",
       "      <td>-0.034175</td>\n",
       "    </tr>\n",
       "    <tr>\n",
       "      <th>Bagasi</th>\n",
       "      <td>0.097560</td>\n",
       "      <td>0.081542</td>\n",
       "      <td>1.000000</td>\n",
       "      <td>0.082096</td>\n",
       "      <td>-0.049363</td>\n",
       "      <td>-0.023318</td>\n",
       "    </tr>\n",
       "    <tr>\n",
       "      <th>Kecepatan</th>\n",
       "      <td>0.109370</td>\n",
       "      <td>0.111942</td>\n",
       "      <td>0.082096</td>\n",
       "      <td>1.000000</td>\n",
       "      <td>-0.009752</td>\n",
       "      <td>0.042819</td>\n",
       "    </tr>\n",
       "    <tr>\n",
       "      <th>Suhu</th>\n",
       "      <td>0.079470</td>\n",
       "      <td>-0.039954</td>\n",
       "      <td>-0.049363</td>\n",
       "      <td>-0.009752</td>\n",
       "      <td>1.000000</td>\n",
       "      <td>0.136657</td>\n",
       "    </tr>\n",
       "    <tr>\n",
       "      <th>Kilometer</th>\n",
       "      <td>0.700815</td>\n",
       "      <td>-0.034175</td>\n",
       "      <td>-0.023318</td>\n",
       "      <td>0.042819</td>\n",
       "      <td>0.136657</td>\n",
       "      <td>1.000000</td>\n",
       "    </tr>\n",
       "  </tbody>\n",
       "</table>\n",
       "</div>"
      ],
      "text/plain": [
       "              Liter  Penumpang    Bagasi  Kecepatan      Suhu  Kilometer\n",
       "Liter      1.000000  -0.087997  0.097560   0.109370  0.079470   0.700815\n",
       "Penumpang -0.087997   1.000000  0.081542   0.111942 -0.039954  -0.034175\n",
       "Bagasi     0.097560   0.081542  1.000000   0.082096 -0.049363  -0.023318\n",
       "Kecepatan  0.109370   0.111942  0.082096   1.000000 -0.009752   0.042819\n",
       "Suhu       0.079470  -0.039954 -0.049363  -0.009752  1.000000   0.136657\n",
       "Kilometer  0.700815  -0.034175 -0.023318   0.042819  0.136657   1.000000"
      ]
     },
     "execution_count": 3,
     "metadata": {},
     "output_type": "execute_result"
    }
   ],
   "source": [
    "df2.corr(method='pearson')"
   ]
  },
  {
   "cell_type": "markdown",
   "id": "8033670c",
   "metadata": {},
   "source": [
    "Berdasarkan hasil korelasi, Bagasi memiliki nilai korelasi yang yang paling mendekati nol sehingga tidak terlalu berpengaruh terhadap jarak kilometer. "
   ]
  },
  {
   "cell_type": "code",
   "execution_count": 6,
   "id": "93acafe3",
   "metadata": {},
   "outputs": [
    {
     "data": {
      "text/plain": [
       "LinearRegression()"
      ]
     },
     "execution_count": 6,
     "metadata": {},
     "output_type": "execute_result"
    }
   ],
   "source": [
    "import numpy as np\n",
    "import sklearn.linear_model as lm\n",
    "\n",
    "model1 = lm.LinearRegression()\n",
    "model1.fit(X_train, y_train)"
   ]
  },
  {
   "cell_type": "code",
   "execution_count": 7,
   "id": "fced9f59",
   "metadata": {},
   "outputs": [
    {
     "data": {
      "text/plain": [
       "LinearRegression()"
      ]
     },
     "execution_count": 7,
     "metadata": {},
     "output_type": "execute_result"
    }
   ],
   "source": [
    "import sklearn.model_selection as ms\n",
    "\n",
    "X = df2[['Liter', 'Penumpang', 'Suhu', 'Kecepatan']]\n",
    "y = df2[['Kilometer']]\n",
    "\n",
    "X_train, X_test, y_train, y_test = ms.train_test_split(X, y, test_size=0.1, random_state=0)\n",
    "model1.fit(X_train, y_train)"
   ]
  },
  {
   "cell_type": "code",
   "execution_count": 9,
   "id": "31a22fcb",
   "metadata": {},
   "outputs": [
    {
     "name": "stdout",
     "output_type": "stream",
     "text": [
      "intercept= [71.89241946]\n",
      "slope= [[ 6.54072143  2.99204736  2.45423995 -3.21123461]]\n"
     ]
    }
   ],
   "source": [
    "print('intercept=', model1.intercept_)\n",
    "print('slope=', model1.coef_)"
   ]
  },
  {
   "cell_type": "markdown",
   "id": "2e5b9620",
   "metadata": {},
   "source": [
    "#### UJI COBA"
   ]
  },
  {
   "cell_type": "markdown",
   "id": "996b77ba",
   "metadata": {},
   "source": [
    "- 40 liter bensin\n",
    "- 5 penumpang\n",
    "- 20 derajat\n",
    "- 80 km/h"
   ]
  },
  {
   "cell_type": "code",
   "execution_count": 10,
   "id": "83d16896",
   "metadata": {},
   "outputs": [
    {
     "name": "stdout",
     "output_type": "stream",
     "text": [
      "[[140.66754311]]\n"
     ]
    },
    {
     "name": "stderr",
     "output_type": "stream",
     "text": [
      "E:\\anaconda3\\lib\\site-packages\\sklearn\\base.py:450: UserWarning: X does not have valid feature names, but LinearRegression was fitted with feature names\n",
      "  warnings.warn(\n"
     ]
    }
   ],
   "source": [
    "data1 = np.array([[40, 5, 20, 80]])\n",
    "hasil = model1.predict(data1)\n",
    "\n",
    "print(hasil)"
   ]
  },
  {
   "cell_type": "markdown",
   "id": "93ae435c",
   "metadata": {},
   "source": [
    "#### SCORING MODEL"
   ]
  },
  {
   "cell_type": "code",
   "execution_count": 11,
   "id": "0c3adb79",
   "metadata": {},
   "outputs": [
    {
     "name": "stdout",
     "output_type": "stream",
     "text": [
      "0.6822990991636202\n"
     ]
    }
   ],
   "source": [
    "r2 = model1.score(X_test, y_test)\n",
    "print(r2)"
   ]
  },
  {
   "cell_type": "code",
   "execution_count": null,
   "id": "203c4301",
   "metadata": {},
   "outputs": [],
   "source": []
  }
 ],
 "metadata": {
  "kernelspec": {
   "display_name": "Python 3 (ipykernel)",
   "language": "python",
   "name": "python3"
  },
  "language_info": {
   "codemirror_mode": {
    "name": "ipython",
    "version": 3
   },
   "file_extension": ".py",
   "mimetype": "text/x-python",
   "name": "python",
   "nbconvert_exporter": "python",
   "pygments_lexer": "ipython3",
   "version": "3.9.12"
  }
 },
 "nbformat": 4,
 "nbformat_minor": 5
}
